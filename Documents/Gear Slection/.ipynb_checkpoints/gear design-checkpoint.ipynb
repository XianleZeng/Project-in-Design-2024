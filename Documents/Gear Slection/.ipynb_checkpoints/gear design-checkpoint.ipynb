{
 "cells": [
  {
   "cell_type": "code",
   "execution_count": 38,
   "id": "1e3b8dca",
   "metadata": {},
   "outputs": [],
   "source": [
    "from numpy import sin, cos, sqrt, deg2rad, pi\n",
    "from math import ceil, floor"
   ]
  },
  {
   "cell_type": "markdown",
   "id": "ed09f92b",
   "metadata": {},
   "source": [
    "<font size=3><strong>Durain Picker Machine End-effector Spur-Gear Selection Flow Chart: </strong></font> \n",
    "<img src=\"Flow Chart.png\" style=\"width: 700px;\"/>"
   ]
  },
  {
   "cell_type": "markdown",
   "id": "229e0a71",
   "metadata": {},
   "source": [
    "<font size=3><strong>Power Relationships: </strong></font> "
   ]
  },
  {
   "cell_type": "code",
   "execution_count": 39,
   "id": "cd9e1399",
   "metadata": {},
   "outputs": [
    {
     "name": "stdout",
     "output_type": "stream",
     "text": [
      "Input power = 80.1426697344335 W\n",
      "Power effiency between gearset = 0.98\n",
      "Output power = 78.53981633974483 W\n"
     ]
    }
   ],
   "source": [
    "Torque_scissor = 25 # [Nm]\n",
    "Rotation_speed = (pi/2)/0.5 # gear angular speed [rad/sec]\n",
    "\n",
    "Output2scissor_power = Torque_scissor * Rotation_speed\n",
    "Pinion2gear_efficency = 0.98 # power effiency transmit from pinion to gear\n",
    "Input2pinion_power = Output2scissor_power / Pinion2gear_efficency\n",
    "\n",
    "print('Input power = {} W'.format(Input2pinion_power))\n",
    "print('Power effiency between gearset = {}'.format(Pinion2gear_efficency))\n",
    "print('Output power = {} W'.format(Output2scissor_power))"
   ]
  },
  {
   "cell_type": "markdown",
   "id": "4e5678b4",
   "metadata": {},
   "source": [
    "<font size=3><strong>Minimum Tooth Number of Pinion Determination (Without Interference): </strong></font> \n",
    "<img src=\"tooth number_pinion_eq13-10.png\" style=\"width: 700px;\"/>"
   ]
  },
  {
   "cell_type": "code",
   "execution_count": 40,
   "id": "5ab9edec",
   "metadata": {},
   "outputs": [
    {
     "name": "stdout",
     "output_type": "stream",
     "text": [
      "Minimum tooth number of pinion (without interference) = 13\n",
      "We choose tooth number of pinion (without interference) = 15\n"
     ]
    }
   ],
   "source": [
    "k = 1 # for full-depth teeth, see Shiely's book page 691\n",
    "m = 2 # module\n",
    "phi = 20 # pressure angle [deg]\n",
    "\n",
    "Min_Np = 2 * k * (1 + sqrt(1+3*sin(deg2rad(phi))**2)) / ( 3* sin(deg2rad(phi))**2) # minimum tooth number of pinion\n",
    "                                                                                   # Shiely eq.13-10\n",
    "Min_Np = ceil(Min_Np)\n",
    "\n",
    "Np = 15 # Set tooth number of pinion\n",
    "\n",
    "print('Minimum tooth number of pinion (without interference) = {}'.format(Min_Np))\n",
    "print('We choose tooth number of pinion (without interference) = {}'.format(Np))"
   ]
  },
  {
   "cell_type": "markdown",
   "id": "02568d08",
   "metadata": {},
   "source": [
    "<font size=3><strong>Maximum Tooth Number of Gear Determination (Without Interference): </strong></font>  \n",
    "<img src=\"tooth number_gear_eq13-12.png\" style=\"width: 800px;\"/>"
   ]
  },
  {
   "cell_type": "code",
   "execution_count": 41,
   "id": "31975916",
   "metadata": {},
   "outputs": [
    {
     "name": "stdout",
     "output_type": "stream",
     "text": [
      "Maximum tooth number of gear (without interference) = 45\n"
     ]
    }
   ],
   "source": [
    "Max_Ng = (Np**2 * sin(deg2rad(phi))**2 - 4*k**2) / (4*k - 2*Np*sin(deg2rad(phi))**2)\n",
    "Max_Ng = floor(Max_Ng) # maximum tooth number without interference, Shiely eq.13-12\n",
    "\n",
    "print('Maximum tooth number of gear (without interference) = {}'.format(Max_Ng))"
   ]
  },
  {
   "cell_type": "markdown",
   "id": "d98e55f4",
   "metadata": {},
   "source": [
    "\n",
    "<font size=3>Let's choose the <strong>tooth number ratio of gearset r<sub>g</sub> = 1</strong>, then <strong>N<sub>p</sub> = N<sub>g</sub> = 15</strong>. And we can also realize values of <strong>pitch-line velocity V </strong>and <strong>tangent force W<sub>t</sub> </strong>between the spur-gears.</font>"
   ]
  },
  {
   "cell_type": "markdown",
   "id": "5ab99b45",
   "metadata": {},
   "source": [
    "<font size=3><strong>Pitch-line Velocity</strong></font>:\n",
    "<img src=\"pitch-line velocity_eq13-34.png\" style=\"width: 800px;\"/>\n",
    "\n",
    "<font size=3><strong>Tangent Force</strong></font>:\n",
    "<img src=\"tangent force_eq13-36.png\" style=\"width: 800px;\"/>"
   ]
  },
  {
   "cell_type": "code",
   "execution_count": 42,
   "id": "db93a5fd",
   "metadata": {},
   "outputs": [
    {
     "name": "stdout",
     "output_type": "stream",
     "text": [
      "Pitch-line velocity = 0.29608813203268075 m/sec\n",
      "Tangent force = 270.67167192499204 N \n",
      "\n",
      "Allowable torque between gears = 28.65 Nm\n",
      "Generated torque between gears = 4.06007507887488 Nm \n",
      "\n",
      "A desirable gear is selected successfully!\n"
     ]
    }
   ],
   "source": [
    "rg = 1 # spur-gear ratio\n",
    "Ng = rg * Np # Tooth number of gear\n",
    "\n",
    "dp = Np * m # pitch diameter of pinion [mm]\n",
    "dg = Ng * m # pitch diameter of gear [mm]\n",
    "\n",
    "V = pi * dp * Rotation_speed / 1000 # pitch-line velocity [m/s], Shiely eq.13-34\n",
    "\n",
    "Wt = Input2pinion_power / V # tangent force [N] Shiely eq.13-36\n",
    "\n",
    "Torque_between_gears = Wt * (dp/2) / 1000\n",
    "Torque_allowable = 28.65 # Allowable torque [Nm], refer to MiSUMi spur-gear catalog page 1151\n",
    "                         # GEAKB-2.0-15-20-A-12N, S45C material\n",
    "                         # https://www.misumi.com.cn/linked/archive/ebook/fabiaozhunpin202210/index.html#/ebook?catalogName=fabiaozhunpin202210&images=23-0308_1189,23-0308_1190&pdfs=1151,1152&targetPage=1152\n",
    "\n",
    "print('Pitch-line velocity = {} m/sec'.format(V))\n",
    "print('Tangent force = {} N'.format(Wt), '\\n')\n",
    "\n",
    "print('Allowable torque between gears = {} Nm'.format(Torque_allowable))\n",
    "print('Generated torque between gears = {} Nm'.format(Torque_between_gears), '\\n')\n",
    "\n",
    "if Torque_between_gears < Torque_allowable:\n",
    "    print('A desirable gear is selected successfully!')\n",
    "else: print('You need to choose another one!')"
   ]
  }
 ],
 "metadata": {
  "kernelspec": {
   "display_name": "Python 3 (ipykernel)",
   "language": "python",
   "name": "python3"
  },
  "language_info": {
   "codemirror_mode": {
    "name": "ipython",
    "version": 3
   },
   "file_extension": ".py",
   "mimetype": "text/x-python",
   "name": "python",
   "nbconvert_exporter": "python",
   "pygments_lexer": "ipython3",
   "version": "3.11.4"
  }
 },
 "nbformat": 4,
 "nbformat_minor": 5
}
