{
 "cells": [
  {
   "cell_type": "code",
   "execution_count": 1,
   "id": "b2dc7252",
   "metadata": {},
   "outputs": [],
   "source": [
    "import numpy as np\n",
    "import sympy as sp"
   ]
  },
  {
   "cell_type": "code",
   "execution_count": 12,
   "id": "7885770f",
   "metadata": {},
   "outputs": [
    {
     "data": {
      "text/plain": [
       "(850.3401360544218, 12.755102040816327)"
      ]
     },
     "execution_count": 12,
     "metadata": {},
     "output_type": "execute_result"
    }
   ],
   "source": [
    "AB = 30e-3 #m\n",
    "AC = 35e-3 #m\n",
    "AE = 45e-3 #m\n",
    "AF = 60e-3 #m\n",
    "r = 0.015 #m\n",
    "M_y = 12.5/0.98 #Nm\n",
    "F_Fx = M_y/r\n",
    "F_Fx, M_y"
   ]
  },
  {
   "cell_type": "code",
   "execution_count": 3,
   "id": "b27a66b9",
   "metadata": {},
   "outputs": [
    {
     "data": {
      "text/plain": [
       "1700.6802721088436"
      ]
     },
     "execution_count": 3,
     "metadata": {},
     "output_type": "execute_result"
    }
   ],
   "source": [
    "F_Bx = F_Fx*AF/AB\n",
    "F_Bx"
   ]
  },
  {
   "cell_type": "code",
   "execution_count": 4,
   "id": "c57b89c4",
   "metadata": {},
   "outputs": [
    {
     "data": {
      "text/plain": [
       "850.3401360544218"
      ]
     },
     "execution_count": 4,
     "metadata": {},
     "output_type": "execute_result"
    }
   ],
   "source": [
    "F_Ax = F_Bx - F_Fx\n",
    "F_Ax"
   ]
  },
  {
   "cell_type": "code",
   "execution_count": 5,
   "id": "501d6b1c",
   "metadata": {
    "scrolled": true
   },
   "outputs": [
    {
     "data": {
      "text/plain": [
       "25.510204081632654"
      ]
     },
     "execution_count": 5,
     "metadata": {},
     "output_type": "execute_result"
    }
   ],
   "source": [
    "F_Ax*AB"
   ]
  },
  {
   "cell_type": "code",
   "execution_count": 6,
   "id": "d1a6cf91",
   "metadata": {},
   "outputs": [
    {
     "data": {
      "text/plain": [
       "75.0"
      ]
     },
     "execution_count": 6,
     "metadata": {},
     "output_type": "execute_result"
    }
   ],
   "source": [
    "F_Ez = 50 #N\n",
    "F_Bz = F_Ez*AE/AB\n",
    "F_Bz"
   ]
  },
  {
   "cell_type": "code",
   "execution_count": 7,
   "id": "5929f302",
   "metadata": {},
   "outputs": [
    {
     "data": {
      "text/plain": [
       "25.0"
      ]
     },
     "execution_count": 7,
     "metadata": {},
     "output_type": "execute_result"
    }
   ],
   "source": [
    "F_Az = F_Bz - F_Ez\n",
    "F_Az"
   ]
  },
  {
   "cell_type": "code",
   "execution_count": 8,
   "id": "4e0cd4b2",
   "metadata": {},
   "outputs": [
    {
     "data": {
      "text/plain": [
       "0.75"
      ]
     },
     "execution_count": 8,
     "metadata": {},
     "output_type": "execute_result"
    }
   ],
   "source": [
    "F_Az*AB "
   ]
  },
  {
   "cell_type": "code",
   "execution_count": 9,
   "id": "45876d17",
   "metadata": {
    "scrolled": true
   },
   "outputs": [
    {
     "data": {
      "text/plain": [
       "0.75"
      ]
     },
     "execution_count": 9,
     "metadata": {},
     "output_type": "execute_result"
    }
   ],
   "source": [
    "F_Ez*(AE-AB)"
   ]
  },
  {
   "cell_type": "code",
   "execution_count": 18,
   "id": "765f5e5e",
   "metadata": {},
   "outputs": [
    {
     "data": {
      "text/plain": [
       "21.25850340136054"
      ]
     },
     "execution_count": 18,
     "metadata": {},
     "output_type": "execute_result"
    }
   ],
   "source": [
    "M_ax = F_Fx*(AF - AC)\n",
    "M_ax"
   ]
  },
  {
   "cell_type": "code",
   "execution_count": 19,
   "id": "b143aac7",
   "metadata": {},
   "outputs": [
    {
     "data": {
      "text/plain": [
       "0.4999999999999998"
      ]
     },
     "execution_count": 19,
     "metadata": {},
     "output_type": "execute_result"
    }
   ],
   "source": [
    "M_az = F_Ez*(AE - AC)\n",
    "M_az"
   ]
  },
  {
   "cell_type": "code",
   "execution_count": 20,
   "id": "d99ba1fb",
   "metadata": {},
   "outputs": [
    {
     "data": {
      "text/plain": [
       "21.264382588395495"
      ]
     },
     "execution_count": 20,
     "metadata": {},
     "output_type": "execute_result"
    }
   ],
   "source": [
    "np.sqrt(M_ax**2 + M_az**2)"
   ]
  },
  {
   "cell_type": "code",
   "execution_count": 21,
   "id": "a0856ac9",
   "metadata": {},
   "outputs": [
    {
     "data": {
      "text/plain": [
       "14.399999999999999"
      ]
     },
     "execution_count": 21,
     "metadata": {},
     "output_type": "execute_result"
    }
   ],
   "source": [
    "d = 12 #mm\n",
    "D = 1.2*12 #mm\n",
    "D"
   ]
  },
  {
   "cell_type": "code",
   "execution_count": null,
   "id": "62e021e1",
   "metadata": {},
   "outputs": [],
   "source": []
  }
 ],
 "metadata": {
  "kernelspec": {
   "display_name": "Python 3 (ipykernel)",
   "language": "python",
   "name": "python3"
  },
  "language_info": {
   "codemirror_mode": {
    "name": "ipython",
    "version": 3
   },
   "file_extension": ".py",
   "mimetype": "text/x-python",
   "name": "python",
   "nbconvert_exporter": "python",
   "pygments_lexer": "ipython3",
   "version": "3.11.4"
  }
 },
 "nbformat": 4,
 "nbformat_minor": 5
}
