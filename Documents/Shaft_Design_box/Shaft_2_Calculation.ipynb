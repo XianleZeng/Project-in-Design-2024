{
 "cells": [
  {
   "cell_type": "code",
   "execution_count": 1,
   "id": "b2dc7252",
   "metadata": {},
   "outputs": [],
   "source": [
    "import numpy as np\n",
    "import sympy as sp"
   ]
  },
  {
   "cell_type": "code",
   "execution_count": 13,
   "id": "7885770f",
   "metadata": {},
   "outputs": [
    {
     "data": {
      "text/plain": [
       "850.3401360544218"
      ]
     },
     "execution_count": 13,
     "metadata": {},
     "output_type": "execute_result"
    }
   ],
   "source": [
    "AB = 20e-3 #m\n",
    "AC = 50e-3 #m\n",
    "r = 0.015 #m\n",
    "M_y = 12.5/0.98\n",
    "F_C = M_y/r\n",
    "F_C"
   ]
  },
  {
   "cell_type": "code",
   "execution_count": 14,
   "id": "b27a66b9",
   "metadata": {},
   "outputs": [
    {
     "data": {
      "text/plain": [
       "2125.8503401360545"
      ]
     },
     "execution_count": 14,
     "metadata": {},
     "output_type": "execute_result"
    }
   ],
   "source": [
    "F_B = F_C*AC/AB\n",
    "F_B"
   ]
  },
  {
   "cell_type": "code",
   "execution_count": null,
   "id": "c57b89c4",
   "metadata": {},
   "outputs": [],
   "source": []
  },
  {
   "cell_type": "code",
   "execution_count": null,
   "id": "501d6b1c",
   "metadata": {},
   "outputs": [],
   "source": []
  }
 ],
 "metadata": {
  "kernelspec": {
   "display_name": "Python 3 (ipykernel)",
   "language": "python",
   "name": "python3"
  },
  "language_info": {
   "codemirror_mode": {
    "name": "ipython",
    "version": 3
   },
   "file_extension": ".py",
   "mimetype": "text/x-python",
   "name": "python",
   "nbconvert_exporter": "python",
   "pygments_lexer": "ipython3",
   "version": "3.11.4"
  }
 },
 "nbformat": 4,
 "nbformat_minor": 5
}
