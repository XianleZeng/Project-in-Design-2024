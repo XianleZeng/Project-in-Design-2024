{
 "cells": [
  {
   "cell_type": "code",
   "execution_count": 1,
   "id": "636e4b69",
   "metadata": {},
   "outputs": [],
   "source": [
    "import numpy as np\n",
    "import sympy as sp\n",
    "import math\n",
    "from sympy import symbols, integrate, pprint, solve\n",
    "from numpy import pi, sqrt, rad2deg\n",
    "import numpy as np\n",
    "import sympy as sp"
   ]
  },
  {
   "cell_type": "markdown",
   "id": "10f21a9c",
   "metadata": {},
   "source": [
    "**!!! All the unit should be in [N] and [mm]**"
   ]
  },
  {
   "cell_type": "code",
   "execution_count": 2,
   "id": "8f996fca",
   "metadata": {},
   "outputs": [],
   "source": [
    "def check_safe(d, factors, Se, Sut, Sy, M_a, M_m, T_a, T_m):\n",
    "    \"\"\"\n",
    "    d: diameter\n",
    "    factors: {'K_f': K_f, 'K_fs': K_fs, 'ka': ka, 'kb': kb, 'kc': kc, 'kd':kd, 'ke': ke}\n",
    "    Se: endurance limit\n",
    "    Sut, Sy: ultimate and yeilding strength of the material\n",
    "    return: {'sigma_a_prime': sigma_a_prime, 'sigma_m_prime': sigma_m_prime, \n",
    "            'fatigue safety factor': n_f, 'yeilding safety factor': n_y}\n",
    "    \"\"\"\n",
    "    K_f = factors['K_f']\n",
    "    K_fs = factors['K_fs']\n",
    "    ka = factors['ka']\n",
    "    kb = factors['kb']\n",
    "    kc = factors['kc']\n",
    "    kd = factors['kd']\n",
    "    ke = factors['ke']\n",
    "    \n",
    "    sigma_a = (32*K_f*M_a)/(np.pi*d**3) \n",
    "    tau_a = (16*K_fs*T_a)/(np.pi*d**3)\n",
    "    sigma_m = (32*K_f*M_m)/(np.pi*d**3)\n",
    "    tau_m = (16*K_fs*T_m)/(np.pi*d**3)\n",
    "\n",
    "    sigma_a_prime = (sigma_a**2 + 3*tau_a**2)**(1/2)\n",
    "    sigma_m_prime = (sigma_m**2 + 3*tau_m**2)**(1/2)\n",
    "    \n",
    "    n_f = ((sigma_a_prime/Se) + (sigma_m_prime/Sut))**(-1)\n",
    "    n_y = Sy/(sigma_a_prime + sigma_m_prime)\n",
    "    \n",
    "    return {'sigma_a_prime': sigma_a_prime, 'sigma_m_prime': sigma_m_prime, \n",
    "            'fatigue safety factor': n_f, 'yeilding safety factor': n_y}"
   ]
  },
  {
   "cell_type": "code",
   "execution_count": 3,
   "id": "a1b1fc8e",
   "metadata": {},
   "outputs": [],
   "source": [
    "# unit:[mm]\n",
    "AD = 30  # D is the mid of the wide of gear\n",
    "AC = 35   # C is the mid of the wide of scissor\n",
    "CB = 15 \n",
    "BO = 30\n",
    "AC = 45"
   ]
  },
  {
   "cell_type": "markdown",
   "id": "4f23986b",
   "metadata": {},
   "source": [
    "### Froce Analysis in the xy plane"
   ]
  },
  {
   "cell_type": "code",
   "execution_count": 4,
   "id": "abdf9cf9",
   "metadata": {},
   "outputs": [],
   "source": [
    "#数据可以手算，但不要用计算机算出来约分小数点，会有误差\n",
    "\n",
    "T = 25 #Nmm  # From the motor\n",
    "F = 50 #N   #From the scissor\n",
    "F_Ax = -12.5 #N\n",
    "F_Bx = -37.5 #N\n",
    "V_A = F_Ax"
   ]
  },
  {
   "cell_type": "code",
   "execution_count": 5,
   "id": "aaaa9b77",
   "metadata": {},
   "outputs": [],
   "source": [
    "# Moment functions\n",
    "V_AC = V_A\n",
    "M_A = V_A*(AD + DC)\n",
    "\n",
    "V_B = F + F_Ax\n",
    "V_CB = V_B\n",
    "\n",
    "M_B = V_AC*CB - F_Ax*(AD+DC)\n",
    "\n",
    "x = sp.symbols('x')\n",
    "Mfunc_OA = (M_A/AC)*(x)\n",
    "Mfunc_AB = ((M_B - M_A)/CB)*(x - AC) + M_A #Nmm"
   ]
  },
  {
   "cell_type": "code",
   "execution_count": 6,
   "id": "d98513a0",
   "metadata": {
    "scrolled": true
   },
   "outputs": [
    {
     "data": {
      "text/plain": [
       "37.5"
      ]
     },
     "execution_count": 6,
     "metadata": {},
     "output_type": "execute_result"
    }
   ],
   "source": [
    "V_B #N"
   ]
  },
  {
   "cell_type": "code",
   "execution_count": 7,
   "id": "4b60a3b4",
   "metadata": {},
   "outputs": [
    {
     "data": {
      "text/plain": [
       "array([-0.5625,  0.375 ])"
      ]
     },
     "execution_count": 7,
     "metadata": {},
     "output_type": "execute_result"
    }
   ],
   "source": [
    "np.array([M_A, M_B])*1e-3  #Nm"
   ]
  },
  {
   "cell_type": "markdown",
   "id": "0617a68a",
   "metadata": {},
   "source": [
    "### Let's first consider the force on A"
   ]
  },
  {
   "cell_type": "code",
   "execution_count": 29,
   "id": "f21fcbf0",
   "metadata": {},
   "outputs": [
    {
     "data": {
      "text/plain": [
       "(21264, 0, 0, 0)"
      ]
     },
     "execution_count": 29,
     "metadata": {},
     "output_type": "execute_result"
    }
   ],
   "source": [
    "M_a = 21264\n",
    "M_m = 0\n",
    "T_a = 0\n",
    "T_m = 0\n",
    "M_a, M_m, T_a, T_m  # Nmm"
   ]
  },
  {
   "cell_type": "markdown",
   "id": "2a2dd20c",
   "metadata": {},
   "source": [
    "Stress Concentration (**Should be modified manually when the data change.**)"
   ]
  },
  {
   "cell_type": "code",
   "execution_count": 30,
   "id": "7b36d868",
   "metadata": {},
   "outputs": [],
   "source": [
    "Kt = 2.1\n",
    "Kts = 1.7\n",
    "Kf = Kts\n",
    "Kfs = Kts"
   ]
  },
  {
   "cell_type": "markdown",
   "id": "ecb141ba",
   "metadata": {},
   "source": [
    "Endurance limit (**Should be modified manually when the data change.**)"
   ]
  },
  {
   "cell_type": "code",
   "execution_count": 31,
   "id": "b3820e2a",
   "metadata": {},
   "outputs": [
    {
     "data": {
      "text/plain": [
       "0.7359415631796432"
      ]
     },
     "execution_count": 31,
     "metadata": {},
     "output_type": "execute_result"
    }
   ],
   "source": [
    "#Choose 1020 CD steel\n",
    "Sut = 690 #MPa\n",
    "Sy = 580 #MPa\n",
    "\n",
    "# ka\n",
    "a = 3.04\n",
    "b = -0.217\n",
    "ka = a*(Sut**b)\n",
    "ka"
   ]
  },
  {
   "cell_type": "code",
   "execution_count": 32,
   "id": "ba18f24e",
   "metadata": {},
   "outputs": [
    {
     "data": {
      "text/plain": [
       "0.9504938076488614"
      ]
     },
     "execution_count": 32,
     "metadata": {},
     "output_type": "execute_result"
    }
   ],
   "source": [
    "kb = 1.24*12**(-0.107)\n",
    "kc, kd, ke = 1, 1, 1\n",
    "kb"
   ]
  },
  {
   "cell_type": "code",
   "execution_count": 33,
   "id": "224ae3d1",
   "metadata": {},
   "outputs": [
    {
     "data": {
      "text/plain": [
       "(345.0, 241.3302250148176)"
      ]
     },
     "execution_count": 33,
     "metadata": {},
     "output_type": "execute_result"
    }
   ],
   "source": [
    "Se_prime = 0.5*Sut  # [MPa]\n",
    "Se = ka*kb*kc*kd*ke*Se_prime # [MPa]\n",
    "Se_prime, Se  # [MPa]"
   ]
  },
  {
   "cell_type": "code",
   "execution_count": 34,
   "id": "e8a471a0",
   "metadata": {},
   "outputs": [
    {
     "name": "stdout",
     "output_type": "stream",
     "text": [
      "A:  72297.59999999999\n",
      "B:  0.0\n",
      "d:  13.178253089157693\n"
     ]
    }
   ],
   "source": [
    "n = 1.5  #Assume minimum safety factor is 1.5\n",
    "\n",
    "A = math.sqrt(4 * (Kf * M_a)**2 + 3 * (Kfs * T_a)**2)\n",
    "B = math.sqrt(4 * (Kf * M_m)**2 + 3 * (Kfs * T_m)**2)\n",
    "d_prime = (16*n*((A/Se)+(B/Sut))/np.pi)**(1/3)\n",
    "\n",
    "print(\"A: \", A)\n",
    "print(\"B: \", B)\n",
    "print('d: ',d_prime)"
   ]
  },
  {
   "cell_type": "markdown",
   "id": "a217d47f",
   "metadata": {},
   "source": [
    "Based on the calculation above, select the diameters and recalculate all the factors. (**Should be modified manually when the data change.**)\n",
    "Typical $D/d$ ratio for support at a shoulder: $D/d = 1.5$  \\\n",
    "Assume $r/d = 0.1$ for well rounded shoulder"
   ]
  },
  {
   "cell_type": "code",
   "execution_count": 35,
   "id": "8d4b7f65",
   "metadata": {},
   "outputs": [
    {
     "data": {
      "text/plain": [
       "(18.0, 1.2000000000000002)"
      ]
     },
     "execution_count": 35,
     "metadata": {},
     "output_type": "execute_result"
    }
   ],
   "source": [
    "d = 12 # [mm] Choose the standard value\n",
    "D_prime = 1.5*d  # (D/d)*d\n",
    "r = 0.1*d  # Fillet radius (r/d)*d\n",
    "D_prime, r"
   ]
  },
  {
   "cell_type": "code",
   "execution_count": 36,
   "id": "2871a986",
   "metadata": {},
   "outputs": [],
   "source": [
    "D = 18 # Choose the standard value "
   ]
  },
  {
   "cell_type": "code",
   "execution_count": 38,
   "id": "9ca526ca",
   "metadata": {},
   "outputs": [],
   "source": [
    "# From Fig.(A-15-9&8) and Fig.(6-26&27)\n",
    "K_t = 1.7\n",
    "K_ts = 1.4\n",
    "q = 0.76\n",
    "q_s = 0.8"
   ]
  },
  {
   "cell_type": "code",
   "execution_count": 42,
   "id": "c7508d17",
   "metadata": {},
   "outputs": [
    {
     "data": {
      "text/plain": [
       "262.33629091108577"
      ]
     },
     "execution_count": 42,
     "metadata": {},
     "output_type": "execute_result"
    }
   ],
   "source": [
    "K_f = 1+q*(K_t - 1)\n",
    "K_fs = 1+q_s*(K_ts - 1)\n",
    "ka = 0.8\n",
    "kb = 1.24*(d)**(-0.107)\n",
    "\n",
    "factors = {'K_f': K_f, 'K_fs': K_fs, 'ka': ka, 'kb': kb, 'kc': kc, 'kd':kd, 'ke': ke}\n",
    "Se = ka*kb*kc*kd*ke*Se_prime\n",
    "Se"
   ]
  },
  {
   "cell_type": "code",
   "execution_count": 43,
   "id": "c3f3ff67",
   "metadata": {
    "scrolled": false
   },
   "outputs": [
    {
     "data": {
      "text/plain": [
       "{'K_f': 1.532,\n",
       " 'K_fs': 1.3199999999999998,\n",
       " 'ka': 0.8,\n",
       " 'kb': 0.9504938076488614,\n",
       " 'kc': 1,\n",
       " 'kd': 1,\n",
       " 'ke': 1}"
      ]
     },
     "execution_count": 43,
     "metadata": {},
     "output_type": "execute_result"
    }
   ],
   "source": [
    "factors"
   ]
  },
  {
   "cell_type": "code",
   "execution_count": 41,
   "id": "cdf80f19",
   "metadata": {
    "scrolled": false
   },
   "outputs": [
    {
     "data": {
      "text/plain": [
       "{'sigma_a_prime': 192.02602694726252,\n",
       " 'sigma_m_prime': 0.0,\n",
       " 'fatigue safety factor': 1.3661496573229266,\n",
       " 'yeilding safety factor': 3.020423893680254}"
      ]
     },
     "execution_count": 41,
     "metadata": {},
     "output_type": "execute_result"
    }
   ],
   "source": [
    "check_safe(d, factors, Se, Sut, Sy, M_a, M_m, T_a, T_m)"
   ]
  },
  {
   "cell_type": "markdown",
   "id": "59fdb6bc",
   "metadata": {},
   "source": [
    "### Let's consider the force on C"
   ]
  },
  {
   "cell_type": "code",
   "execution_count": 20,
   "id": "ccda3cd2",
   "metadata": {},
   "outputs": [
    {
     "data": {
      "text/plain": [
       "(6402.308, 0, 0, 25000)"
      ]
     },
     "execution_count": 20,
     "metadata": {},
     "output_type": "execute_result"
    }
   ],
   "source": [
    "M_a = 6402.308\n",
    "M_m = 0\n",
    "T_a = 0\n",
    "T_m = 25000\n",
    "M_a, M_m, T_a, T_m  # Nmm"
   ]
  },
  {
   "cell_type": "code",
   "execution_count": 21,
   "id": "dfb9fce8",
   "metadata": {},
   "outputs": [
    {
     "data": {
      "text/plain": [
       "1.5"
      ]
     },
     "execution_count": 21,
     "metadata": {},
     "output_type": "execute_result"
    }
   ],
   "source": [
    "r = 1.2 #mm\n",
    "D = 18 #mm\n",
    "d = 12 #mm\n",
    "D/d"
   ]
  },
  {
   "cell_type": "code",
   "execution_count": 22,
   "id": "b4ce913c",
   "metadata": {},
   "outputs": [],
   "source": [
    "# From Fig.(A-15-9&8) and Fig.(6-26&27)\n",
    "K_t = 2.1\n",
    "K_ts = 1.7\n",
    "q = 0.69\n",
    "q_s = 0.71"
   ]
  },
  {
   "cell_type": "code",
   "execution_count": 23,
   "id": "6fc63c99",
   "metadata": {
    "scrolled": true
   },
   "outputs": [
    {
     "data": {
      "text/plain": [
       "262.33629091108577"
      ]
     },
     "execution_count": 23,
     "metadata": {},
     "output_type": "execute_result"
    }
   ],
   "source": [
    "K_f = 1+q*(K_t - 1)\n",
    "K_fs = 1+q_s*(K_ts - 1)\n",
    "ka = 0.8\n",
    "kb = 1.24*(d)**(-0.107)\n",
    "\n",
    "factors = {'K_f': K_f, 'K_fs': K_fs, 'ka': ka, 'kb': kb, 'kc': kc, 'kd':kd, 'ke': ke}\n",
    "Se = ka*kb*kc*kd*ke*Se_prime\n",
    "Se"
   ]
  },
  {
   "cell_type": "code",
   "execution_count": 24,
   "id": "4a3cb9c4",
   "metadata": {
    "scrolled": true
   },
   "outputs": [
    {
     "data": {
      "text/plain": [
       "{'K_f': 1.759,\n",
       " 'K_fs': 1.4969999999999999,\n",
       " 'ka': 0.8,\n",
       " 'kb': 0.9504938076488614,\n",
       " 'kc': 1,\n",
       " 'kd': 1,\n",
       " 'ke': 1}"
      ]
     },
     "execution_count": 24,
     "metadata": {},
     "output_type": "execute_result"
    }
   ],
   "source": [
    "factors"
   ]
  },
  {
   "cell_type": "code",
   "execution_count": 25,
   "id": "0a9aeae7",
   "metadata": {},
   "outputs": [
    {
     "data": {
      "text/plain": [
       "{'sigma_a_prime': 66.38328963455359,\n",
       " 'sigma_m_prime': 191.05077695519046,\n",
       " 'fatigue safety factor': 1.8870355606481553,\n",
       " 'yeilding safety factor': 2.253004070841597}"
      ]
     },
     "execution_count": 25,
     "metadata": {},
     "output_type": "execute_result"
    }
   ],
   "source": [
    "check_safe(d, factors, Se, Sut, Sy, M_a, M_m, T_a, T_m)"
   ]
  },
  {
   "cell_type": "code",
   "execution_count": 26,
   "id": "acb9acaa",
   "metadata": {},
   "outputs": [
    {
     "data": {
      "text/plain": [
       "0.7359415631796432"
      ]
     },
     "execution_count": 26,
     "metadata": {},
     "output_type": "execute_result"
    }
   ],
   "source": [
    "3.04*(Sut)**(-0.217)"
   ]
  },
  {
   "cell_type": "markdown",
   "id": "883af245",
   "metadata": {},
   "source": [
    "### Deflection"
   ]
  },
  {
   "cell_type": "code",
   "execution_count": 27,
   "id": "412bded3",
   "metadata": {},
   "outputs": [],
   "source": [
    "def deflection_slope(Mz1, Mz2, E, d1, d2, OA, OB):\n",
    "    \"\"\"\n",
    "    Mz1, Mz2, Mz3:  Nmm\n",
    "    AE, AH, AB:  mm\n",
    "    E: MPa\n",
    "    d1:  mm\n",
    "    d2:  mm\n",
    "    return: deflection and slope for each segment\n",
    "    \"\"\"\n",
    "    I1 = pi*d1**4/64\n",
    "    I2 = pi*d2**4/64\n",
    "    C1, C2, C3, C4, C5, C6 = symbols('C1, C2, C3, C4, C5, C6',real=True)\n",
    "    EIdv1dx = integrate(Mz1,x) + C1\n",
    "    EIv1 = integrate(EIdv1dx,x) + C2\n",
    "\n",
    "    EIdv2dx = integrate(Mz2,x) + C3\n",
    "    EIv2 = integrate(EIdv2dx,x) + C4\n",
    "\n",
    "    eq1 = EIv1.subs(x,0)/E/I1\n",
    "    eq2 = EIdv1dx.subs(x,OA)/E/I1 - EIdv2dx.subs(x,OA)/E/I2\n",
    "    eq3 = EIv1.subs(x,OA)/E/I1 \n",
    "    eq4 = EIv2.subs(x,OB)/E/I2\n",
    "    \n",
    "    c1t6 = solve((eq1,eq2,eq3,eq4))\n",
    "    \n",
    "    v1 = EIv1.subs(c1t6)/E/I1\n",
    "    v2 = EIv2.subs(c1t6)/E/I2\n",
    "    \n",
    "    dv1dx = EIdv1dx.subs(c1t6)/E/I1\n",
    "    dv2dx = EIdv2dx.subs(c1t6)/E/I2\n",
    "    \n",
    "    defl = {\"v1\": v1, \"v2\": v2}\n",
    "    slop = {\"s1\": dv1dx, \"s2\": dv2dx}\n",
    "    \n",
    "    return defl, slop"
   ]
  },
  {
   "cell_type": "code",
   "execution_count": 28,
   "id": "69d18d2f",
   "metadata": {},
   "outputs": [
    {
     "ename": "NameError",
     "evalue": "name 'OA' is not defined",
     "output_type": "error",
     "traceback": [
      "\u001b[1;31m---------------------------------------------------------------------------\u001b[0m",
      "\u001b[1;31mNameError\u001b[0m                                 Traceback (most recent call last)",
      "Cell \u001b[1;32mIn[28], line 7\u001b[0m\n\u001b[0;32m      5\u001b[0m Mz2 \u001b[38;5;241m=\u001b[39m Mfunc_AB\n\u001b[0;32m      6\u001b[0m \u001b[38;5;66;03m# check\u001b[39;00m\n\u001b[1;32m----> 7\u001b[0m Mz1\u001b[38;5;241m.\u001b[39msubs({x:\u001b[43mOA\u001b[49m}), Mz2\u001b[38;5;241m.\u001b[39msubs({x:OA})\n",
      "\u001b[1;31mNameError\u001b[0m: name 'OA' is not defined"
     ]
    }
   ],
   "source": [
    "d1 = 300 #mm\n",
    "d2 = 250 #mm\n",
    "E = 205.0e3 # N/mm/mm  typical value for steel\n",
    "Mz1 = Mfunc_OA\n",
    "Mz2 = Mfunc_AB\n",
    "# check\n",
    "Mz1.subs({x:OA}), Mz2.subs({x:OA})"
   ]
  },
  {
   "cell_type": "code",
   "execution_count": null,
   "id": "aa8ac349",
   "metadata": {},
   "outputs": [],
   "source": [
    "defl, slop = deflection_slope(Mz1, Mz2, E, d1, d2, OA, OB)"
   ]
  },
  {
   "cell_type": "code",
   "execution_count": null,
   "id": "076ad85c",
   "metadata": {},
   "outputs": [],
   "source": [
    "v1, v2 = defl['v1'], defl['v2']\n",
    "s1, s2 = slop['s1'], slop['s2']\n",
    "print('v1:', v1)\n",
    "print('v2:', v2)"
   ]
  },
  {
   "cell_type": "code",
   "execution_count": null,
   "id": "512f1158",
   "metadata": {},
   "outputs": [],
   "source": [
    "print('s1:', s1)\n",
    "print('s2:', s2)"
   ]
  },
  {
   "cell_type": "markdown",
   "id": "1330e2f6",
   "metadata": {},
   "source": [
    "### Checking deflections and slopes"
   ]
  },
  {
   "cell_type": "markdown",
   "id": "031c824a",
   "metadata": {},
   "source": [
    "#### At bearing A:"
   ]
  },
  {
   "cell_type": "code",
   "execution_count": null,
   "id": "26fb74ac",
   "metadata": {},
   "outputs": [],
   "source": [
    "rotzA = float(s1.subs(x,OA))\n",
    "rotyA = 0\n",
    "\n",
    "slA = sqrt(rotzA*rotzA + rotyA*rotyA)\n",
    "slA #rad"
   ]
  },
  {
   "cell_type": "markdown",
   "id": "cdbda75e",
   "metadata": {},
   "source": [
    "#### At bearing B:"
   ]
  },
  {
   "cell_type": "code",
   "execution_count": null,
   "id": "87ea9adc",
   "metadata": {},
   "outputs": [],
   "source": [
    "rotzB = float(s2.subs(x,OB))\n",
    "rotyB = 0\n",
    "\n",
    "slB = sqrt(rotzB*rotzB + rotyB*rotyB)\n",
    "slB #rad"
   ]
  },
  {
   "cell_type": "markdown",
   "id": "d9293076",
   "metadata": {},
   "source": [
    "#### At O:"
   ]
  },
  {
   "cell_type": "code",
   "execution_count": null,
   "id": "ddaec782",
   "metadata": {},
   "outputs": [],
   "source": [
    "rotzO = float(s2.subs(x,0))\n",
    "rotyO = 0\n",
    "\n",
    "slO = sqrt(rotzO*rotzO + rotyO*rotyO)\n",
    "slO #rad"
   ]
  }
 ],
 "metadata": {
  "kernelspec": {
   "display_name": "Python 3 (ipykernel)",
   "language": "python",
   "name": "python3"
  },
  "language_info": {
   "codemirror_mode": {
    "name": "ipython",
    "version": 3
   },
   "file_extension": ".py",
   "mimetype": "text/x-python",
   "name": "python",
   "nbconvert_exporter": "python",
   "pygments_lexer": "ipython3",
   "version": "3.10.9"
  }
 },
 "nbformat": 4,
 "nbformat_minor": 5
}
