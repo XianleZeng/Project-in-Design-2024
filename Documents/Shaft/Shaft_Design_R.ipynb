{
 "cells": [
  {
   "cell_type": "code",
   "execution_count": 1,
   "id": "636e4b69",
   "metadata": {},
   "outputs": [],
   "source": [
    "import numpy as np\n",
    "import sympy as sp\n",
    "import math\n",
    "from sympy import symbols, integrate, pprint, solve\n",
    "from numpy import pi, sqrt, rad2deg\n",
    "import numpy as np\n",
    "import sympy as sp"
   ]
  },
  {
   "cell_type": "markdown",
   "id": "10f21a9c",
   "metadata": {},
   "source": [
    "**!!! All the unit should be in [N] and [mm]**"
   ]
  },
  {
   "cell_type": "code",
   "execution_count": 2,
   "id": "8f996fca",
   "metadata": {},
   "outputs": [],
   "source": [
    "def check_safe(d, factors, Se, Sut, Sy, M_a, M_m, T_a, T_m):\n",
    "    \"\"\"\n",
    "    d: diameter\n",
    "    factors: {'K_f': K_f, 'K_fs': K_fs, 'ka': ka, 'kb': kb, 'kc': kc, 'kd':kd, 'ke': ke}\n",
    "    Se: endurance limit\n",
    "    Sut, Sy: ultimate and yeilding strength of the material\n",
    "    return: {'sigma_a_prime': sigma_a_prime, 'sigma_m_prime': sigma_m_prime, \n",
    "            'fatigue safety factor': n_f, 'yeilding safety factor': n_y}\n",
    "    \"\"\"\n",
    "    K_f = factors['K_f']\n",
    "    K_fs = factors['K_fs']\n",
    "    ka = factors['ka']\n",
    "    kb = factors['kb']\n",
    "    kc = factors['kc']\n",
    "    kd = factors['kd']\n",
    "    ke = factors['ke']\n",
    "    \n",
    "    sigma_a = (32*K_f*M_a)/(np.pi*d**3) \n",
    "    tau_a = (16*K_fs*T_a)/(np.pi*d**3)\n",
    "    sigma_m = (32*K_f*M_m)/(np.pi*d**3)\n",
    "    tau_m = (16*K_fs*T_m)/(np.pi*d**3)\n",
    "\n",
    "    sigma_a_prime = (sigma_a**2 + 3*tau_a**2)**(1/2)\n",
    "    sigma_m_prime = (sigma_m**2 + 3*tau_m**2)**(1/2)\n",
    "    \n",
    "    n_f = ((sigma_a_prime/Se) + (sigma_m_prime/Sut))**(-1)\n",
    "    n_y = Sy/(sigma_a_prime + sigma_m_prime)\n",
    "    \n",
    "    return {'sigma_a_prime': sigma_a_prime, 'sigma_m_prime': sigma_m_prime, \n",
    "            'fatigue safety factor': n_f, 'yeilding safety factor': n_y}"
   ]
  },
  {
   "cell_type": "code",
   "execution_count": 3,
   "id": "a1b1fc8e",
   "metadata": {},
   "outputs": [],
   "source": [
    "# unit:[mm]\n",
    "AD = 30  # D is the mid of the wide of gear\n",
    "DC = 15   # C is the mid of the wide of scissor\n",
    "CB = 15 \n",
    "BO = 30\n",
    "AC = 45"
   ]
  },
  {
   "cell_type": "markdown",
   "id": "4f23986b",
   "metadata": {},
   "source": [
    "### Froce Analysis in the xy plane"
   ]
  },
  {
   "cell_type": "code",
   "execution_count": 4,
   "id": "abdf9cf9",
   "metadata": {},
   "outputs": [],
   "source": [
    "#数据可以手算，但不要用计算机算出来约分小数点，会有误差\n",
    "\n",
    "T = 25000 #Nmm  # From the motor\n",
    "F = 50 #N   #From the scissor\n",
    "F_Ax = -12.5 #N\n",
    "F_Bx = -37.5 #N\n",
    "V_A = F_Ax"
   ]
  },
  {
   "cell_type": "code",
   "execution_count": 5,
   "id": "aaaa9b77",
   "metadata": {},
   "outputs": [],
   "source": [
    "# Moment functions\n",
    "V_AC = V_A\n",
    "M_A = V_A*(AD + DC)\n",
    "\n",
    "V_B = F + F_Ax\n",
    "V_CB = V_B\n",
    "\n",
    "M_B = V_AC*CB - F_Ax*(AD+DC)\n",
    "\n",
    "x = sp.symbols('x')\n",
    "Mfunc_OA = (M_A/AC)*(x)\n",
    "Mfunc_AB = ((M_B - M_A)/CB)*(x - AC) + M_A #Nmm"
   ]
  },
  {
   "cell_type": "code",
   "execution_count": 6,
   "id": "d98513a0",
   "metadata": {
    "scrolled": true
   },
   "outputs": [
    {
     "data": {
      "text/plain": [
       "37.5"
      ]
     },
     "execution_count": 6,
     "metadata": {},
     "output_type": "execute_result"
    }
   ],
   "source": [
    "V_B #N"
   ]
  },
  {
   "cell_type": "code",
   "execution_count": 7,
   "id": "4b60a3b4",
   "metadata": {},
   "outputs": [
    {
     "data": {
      "text/plain": [
       "array([-0.5625,  0.375 ])"
      ]
     },
     "execution_count": 7,
     "metadata": {},
     "output_type": "execute_result"
    }
   ],
   "source": [
    "np.array([M_A, M_B])*1e-3  #Nm"
   ]
  },
  {
   "cell_type": "markdown",
   "id": "0617a68a",
   "metadata": {},
   "source": [
    "### Start with point D, where the bending moment is high and there is the keyway."
   ]
  },
  {
   "cell_type": "code",
   "execution_count": 8,
   "id": "f21fcbf0",
   "metadata": {},
   "outputs": [
    {
     "data": {
      "text/plain": [
       "(12760.61, 0, 0, 25000)"
      ]
     },
     "execution_count": 8,
     "metadata": {},
     "output_type": "execute_result"
    }
   ],
   "source": [
    "M_a = 12760.61\n",
    "M_m = 0\n",
    "T_a = 0\n",
    "T_m = 25000\n",
    "M_a, M_m, T_a, T_m  # Nmm"
   ]
  },
  {
   "cell_type": "markdown",
   "id": "ecb141ba",
   "metadata": {},
   "source": [
    "Endurance limit (**Should be modified manually when the data change.**)"
   ]
  },
  {
   "cell_type": "code",
   "execution_count": 9,
   "id": "b3820e2a",
   "metadata": {},
   "outputs": [],
   "source": [
    "#Choose 1050 CD steel\n",
    "Sut = 690 #MPa\n",
    "Sy = 580 #MPa\n",
    "ka = 3.02*Sut**(-0.217)\n"
   ]
  },
  {
   "cell_type": "code",
   "execution_count": 10,
   "id": "224ae3d1",
   "metadata": {},
   "outputs": [
    {
     "data": {
      "text/plain": [
       "345.0"
      ]
     },
     "execution_count": 10,
     "metadata": {},
     "output_type": "execute_result"
    }
   ],
   "source": [
    "Se_prime = 0.5*Sut  # [MPa]\n",
    "# Se = ka*kb*kc*kd*ke*Se_prime # [MPa]\n",
    "Se_prime  # [MPa]"
   ]
  },
  {
   "cell_type": "markdown",
   "id": "a217d47f",
   "metadata": {},
   "source": [
    "Based on the calculation above,Based on the inner radius of the gear (12 mm), let’s design the diameter d to be 12 mm. And calculate all the factors. \n",
    "And typical keyway standard $r/d$ ratio for support at a keyway: $r/d = 0.02$ from table7-1  \n",
    "K_t = 2.14 K_ts=3"
   ]
  },
  {
   "cell_type": "code",
   "execution_count": 11,
   "id": "8d4b7f65",
   "metadata": {},
   "outputs": [
    {
     "data": {
      "text/plain": [
       "0.24"
      ]
     },
     "execution_count": 11,
     "metadata": {},
     "output_type": "execute_result"
    }
   ],
   "source": [
    "d = 12 # [mm] Choose the standard value\n",
    "r = 0.02*d  #  keyway will be the standard r/d=0.02,\n",
    "r"
   ]
  },
  {
   "cell_type": "code",
   "execution_count": 12,
   "id": "9ca526ca",
   "metadata": {},
   "outputs": [],
   "source": [
    "# From Fig.(A-15-9&8) and Fig.(6-26&27)\n",
    "K_t = 2.14\n",
    "K_ts = 3\n",
    "q = 0.52\n",
    "q_s = 0.5"
   ]
  },
  {
   "cell_type": "code",
   "execution_count": 13,
   "id": "c7508d17",
   "metadata": {},
   "outputs": [
    {
     "data": {
      "text/plain": [
       "239.7425261660359"
      ]
     },
     "execution_count": 13,
     "metadata": {},
     "output_type": "execute_result"
    }
   ],
   "source": [
    "K_f = 1+q*(K_t - 1)\n",
    "K_fs = 1+q_s*(K_ts - 1)\n",
    "kb = 1.24*(d)**(-0.107)\n",
    "kc=kd=ke=1\n",
    "\n",
    "factors = {'K_f': K_f, 'K_fs': K_fs, 'ka': ka, 'kb': kb, 'kc': kc, 'kd':kd, 'ke': ke}\n",
    "Se = ka*kb*kc*kd*ke*Se_prime\n",
    "Se"
   ]
  },
  {
   "cell_type": "code",
   "execution_count": 14,
   "id": "c3f3ff67",
   "metadata": {
    "scrolled": false
   },
   "outputs": [
    {
     "data": {
      "text/plain": [
       "{'K_f': 1.5928,\n",
       " 'K_fs': 2.0,\n",
       " 'ka': 0.7310998423692509,\n",
       " 'kb': 0.9504938076488614,\n",
       " 'kc': 1,\n",
       " 'kd': 1,\n",
       " 'ke': 1}"
      ]
     },
     "execution_count": 14,
     "metadata": {},
     "output_type": "execute_result"
    }
   ],
   "source": [
    "factors"
   ]
  },
  {
   "cell_type": "code",
   "execution_count": 15,
   "id": "cdf80f19",
   "metadata": {
    "scrolled": true
   },
   "outputs": [
    {
     "data": {
      "text/plain": [
       "{'sigma_a_prime': 119.80889153512388,\n",
       " 'sigma_m_prime': 255.24485899157042,\n",
       " 'fatigue safety factor': 1.149874762902595,\n",
       " 'yeilding safety factor': 1.5464450073769325}"
      ]
     },
     "execution_count": 15,
     "metadata": {},
     "output_type": "execute_result"
    }
   ],
   "source": [
    "check_safe(d, factors, Se, Sut, Sy, M_a, M_m, T_a, T_m)"
   ]
  },
  {
   "cell_type": "markdown",
   "id": "5277124b",
   "metadata": {},
   "source": [
    "###  At point E, we will look up data for a specific retaining ring to obtain Kf and Kfs more accurately.\n",
    "With a quick online search of a retaining ring specification appropriate groove specifications for a retaining ring for a shaft diameter of 11.5mm are obtained as follows: width, a=1mm; depth, 0.25mm; and corner radius at the bottom of grove, r=0.13mm "
   ]
  },
  {
   "cell_type": "code",
   "execution_count": 16,
   "id": "9a894e94",
   "metadata": {},
   "outputs": [
    {
     "data": {
      "text/plain": [
       "(8507.074, 0, 0, 25000)"
      ]
     },
     "execution_count": 16,
     "metadata": {},
     "output_type": "execute_result"
    }
   ],
   "source": [
    "M_a = 8507.074\n",
    "M_m = 0\n",
    "T_a = 0\n",
    "T_m = 25000\n",
    "M_a, M_m, T_a, T_m  # Nmm"
   ]
  },
  {
   "cell_type": "code",
   "execution_count": 17,
   "id": "9ce39692",
   "metadata": {},
   "outputs": [],
   "source": [
    "# From Fig.(A-15-16&17) and Fig.(6-26&27)\n",
    "K_t = 2.9\n",
    "K_ts = 1.3\n",
    "q = 0.51\n",
    "q_s = 0.55"
   ]
  },
  {
   "cell_type": "code",
   "execution_count": 18,
   "id": "bafa114d",
   "metadata": {},
   "outputs": [
    {
     "data": {
      "text/plain": [
       "239.7425261660359"
      ]
     },
     "execution_count": 18,
     "metadata": {},
     "output_type": "execute_result"
    }
   ],
   "source": [
    "K_f = 1+q*(K_t - 1)\n",
    "K_fs = 1+q_s*(K_ts - 1)\n",
    "ka = ka = 3.02*Sut**(-0.217)\n",
    "kb = 1.24*(d)**(-0.107)\n",
    "kc=kd=ke=1\n",
    "factors = {'K_f': K_f, 'K_fs': K_fs, 'ka': ka, 'kb': kb, 'kc': kc, 'kd':kd, 'ke': ke}\n",
    "Se = ka*kb*kc*kd*ke*Se_prime\n",
    "Se"
   ]
  },
  {
   "cell_type": "code",
   "execution_count": 19,
   "id": "a566b83f",
   "metadata": {
    "scrolled": true
   },
   "outputs": [
    {
     "data": {
      "text/plain": [
       "{'K_f': 1.9689999999999999,\n",
       " 'K_fs': 1.165,\n",
       " 'ka': 0.7310998423692509,\n",
       " 'kb': 0.9504938076488614,\n",
       " 'kc': 1,\n",
       " 'kd': 1,\n",
       " 'ke': 1}"
      ]
     },
     "execution_count": 19,
     "metadata": {},
     "output_type": "execute_result"
    }
   ],
   "source": [
    "factors"
   ]
  },
  {
   "cell_type": "code",
   "execution_count": 20,
   "id": "34713056",
   "metadata": {},
   "outputs": [
    {
     "data": {
      "text/plain": [
       "{'sigma_a_prime': 98.73753805438075,\n",
       " 'sigma_m_prime': 148.68013036258975,\n",
       " 'fatigue safety factor': 1.5940657591496743,\n",
       " 'yeilding safety factor': 2.344214152978484}"
      ]
     },
     "execution_count": 20,
     "metadata": {},
     "output_type": "execute_result"
    }
   ],
   "source": [
    "check_safe(d, factors, Se, Sut, Sy, M_a, M_m, T_a, T_m)"
   ]
  },
  {
   "cell_type": "markdown",
   "id": "59fdb6bc",
   "metadata": {},
   "source": [
    "### Let's consider the force on C"
   ]
  },
  {
   "cell_type": "code",
   "execution_count": 21,
   "id": "ccda3cd2",
   "metadata": {},
   "outputs": [
    {
     "data": {
      "text/plain": [
       "(6402.31, 0, 0, 25000)"
      ]
     },
     "execution_count": 21,
     "metadata": {},
     "output_type": "execute_result"
    }
   ],
   "source": [
    "M_a = 6402.31\n",
    "M_m = 0\n",
    "T_a = 0\n",
    "T_m = 25000\n",
    "M_a, M_m, T_a, T_m  # Nmm"
   ]
  },
  {
   "cell_type": "code",
   "execution_count": 22,
   "id": "dfb9fce8",
   "metadata": {},
   "outputs": [
    {
     "data": {
      "text/plain": [
       "1.5"
      ]
     },
     "execution_count": 22,
     "metadata": {},
     "output_type": "execute_result"
    }
   ],
   "source": [
    "r = 1.2 #mm\n",
    "D = 18 #mm\n",
    "d = 12 #mm\n",
    "D/d"
   ]
  },
  {
   "cell_type": "code",
   "execution_count": 23,
   "id": "b4ce913c",
   "metadata": {},
   "outputs": [],
   "source": [
    "# From Fig.(A-15-9&8) and Fig.(6-26&27)\n",
    "K_t = 1.7\n",
    "K_ts = 1.4\n",
    "q = 0.76\n",
    "q_s = 0.8"
   ]
  },
  {
   "cell_type": "code",
   "execution_count": 24,
   "id": "6fc63c99",
   "metadata": {
    "scrolled": true
   },
   "outputs": [
    {
     "data": {
      "text/plain": [
       "239.7425261660359"
      ]
     },
     "execution_count": 24,
     "metadata": {},
     "output_type": "execute_result"
    }
   ],
   "source": [
    "K_f = 1+q*(K_t - 1)\n",
    "K_fs = 1+q_s*(K_ts - 1)\n",
    "ka = 3.02*Sut**(-0.217)\n",
    "kb = 1.24*(d)**(-0.107)\n",
    "\n",
    "factors = {'K_f': K_f, 'K_fs': K_fs, 'ka': ka, 'kb': kb, 'kc': kc, 'kd':kd, 'ke': ke}\n",
    "Se = ka*kb*kc*kd*ke*Se_prime\n",
    "Se"
   ]
  },
  {
   "cell_type": "code",
   "execution_count": 25,
   "id": "4a3cb9c4",
   "metadata": {
    "scrolled": true
   },
   "outputs": [
    {
     "data": {
      "text/plain": [
       "{'K_f': 1.532,\n",
       " 'K_fs': 1.3199999999999998,\n",
       " 'ka': 0.7310998423692509,\n",
       " 'kb': 0.9504938076488614,\n",
       " 'kc': 1,\n",
       " 'kd': 1,\n",
       " 'ke': 1}"
      ]
     },
     "execution_count": 25,
     "metadata": {},
     "output_type": "execute_result"
    }
   ],
   "source": [
    "factors"
   ]
  },
  {
   "cell_type": "code",
   "execution_count": 26,
   "id": "0a9aeae7",
   "metadata": {
    "scrolled": false
   },
   "outputs": [
    {
     "data": {
      "text/plain": [
       "{'sigma_a_prime': 57.816504542171195,\n",
       " 'sigma_m_prime': 168.46160693443645,\n",
       " 'fatigue safety factor': 2.0605467858973983,\n",
       " 'yeilding safety factor': 2.5632174328092696}"
      ]
     },
     "execution_count": 26,
     "metadata": {},
     "output_type": "execute_result"
    }
   ],
   "source": [
    "check_safe(d, factors, Se, Sut, Sy, M_a, M_m, T_a, T_m)"
   ]
  },
  {
   "cell_type": "markdown",
   "id": "883af245",
   "metadata": {},
   "source": [
    "### Deflection in the xy plane"
   ]
  },
  {
   "cell_type": "code",
   "execution_count": 27,
   "id": "412bded3",
   "metadata": {},
   "outputs": [],
   "source": [
    "def deflection_slope(Mz1, Mz2, E, d1, d2, AC, AB):\n",
    "    \"\"\"\n",
    "    Mz1, Mz2, Mz3:  Nmm\n",
    "    AE, AH, AB:  mm\n",
    "    E: MPa\n",
    "    d1:  mm\n",
    "    d2:  mm\n",
    "    return: deflection and slope for each segment\n",
    "    \"\"\"\n",
    "    I1 = pi*d1**4/64\n",
    "    I2 = pi*d2**4/64\n",
    "    C1, C2, C3, C4, C5, C6 = symbols('C1, C2, C3, C4, C5, C6',real=True)\n",
    "    EIdv1dx = integrate(Mz1,x) + C1\n",
    "    EIv1 = integrate(EIdv1dx,x) + C2\n",
    "\n",
    "    EIdv2dx = integrate(Mz2,x) + C3\n",
    "    EIv2 = integrate(EIdv2dx,x) + C4\n",
    "\n",
    "    eq1 = EIv1.subs(x,0)/E/I1\n",
    "    eq2 = EIdv1dx.subs(x,AC)/E/I1 - EIdv2dx.subs(x,AC)/E/I2\n",
    "    eq3 = EIv1.subs(x,AC)/E/I1 \n",
    "    eq4 = EIv2.subs(x,AB)/E/I2\n",
    "    \n",
    "    c1t6 = solve((eq1,eq2,eq3,eq4))\n",
    "    \n",
    "    v1 = EIv1.subs(c1t6)/E/I1\n",
    "    v2 = EIv2.subs(c1t6)/E/I2\n",
    "    \n",
    "    dv1dx = EIdv1dx.subs(c1t6)/E/I1\n",
    "    dv2dx = EIdv2dx.subs(c1t6)/E/I2\n",
    "    \n",
    "    defl = {\"v1\": v1, \"v2\": v2}\n",
    "    slop = {\"s1\": dv1dx, \"s2\": dv2dx}\n",
    "    \n",
    "    return defl, slop"
   ]
  },
  {
   "cell_type": "code",
   "execution_count": 28,
   "id": "196a61ed",
   "metadata": {},
   "outputs": [],
   "source": [
    "AC= 45\n",
    "AD= 30\n",
    "AB = 60\n",
    "DB = 30\n",
    "x = sp.symbols('x')\n",
    "Mfunc_AC = (-12.5)*(x)\n",
    "Mfunc_CB = (37.5)*(x) -2250 #Nmm"
   ]
  },
  {
   "cell_type": "code",
   "execution_count": 29,
   "id": "69d18d2f",
   "metadata": {},
   "outputs": [],
   "source": [
    "d1 = 12 #mm\n",
    "d2 = 12 #mm\n",
    "E = 205.0e3 # N/mm/mm  typical value for steel\n",
    "Mz1 = Mfunc_AC\n",
    "Mz2 = Mfunc_CB\n"
   ]
  },
  {
   "cell_type": "code",
   "execution_count": 30,
   "id": "aa8ac349",
   "metadata": {},
   "outputs": [],
   "source": [
    "defl, slop = deflection_slope(Mz1, Mz2, E, d1, d2, AC, AB)"
   ]
  },
  {
   "cell_type": "code",
   "execution_count": 31,
   "id": "076ad85c",
   "metadata": {},
   "outputs": [
    {
     "name": "stdout",
     "output_type": "stream",
     "text": [
      "v1: -9.98412520650754e-9*x**3 + 2.02178535431777e-5*x\n",
      "v2: 2.99523756195226e-8*x**3 - 5.39142761151407e-6*x**2 + 0.000262832096061311*x - 0.00283049949604483\n"
     ]
    }
   ],
   "source": [
    "v1, v2 = defl['v1'], defl['v2']\n",
    "s1, s2 = slop['s1'], slop['s2']\n",
    "print('v1:', v1)\n",
    "print('v2:', v2)"
   ]
  },
  {
   "cell_type": "code",
   "execution_count": 32,
   "id": "512f1158",
   "metadata": {
    "scrolled": true
   },
   "outputs": [
    {
     "name": "stdout",
     "output_type": "stream",
     "text": [
      "s1: 2.02178535431777e-5 - 2.99523756195226e-8*x**2\n",
      "s2: 8.98571268585678e-8*x**2 - 1.07828552230281e-5*x + 0.000262832096061311\n"
     ]
    }
   ],
   "source": [
    "print('s1:', s1)\n",
    "print('s2:', s2)"
   ]
  },
  {
   "cell_type": "markdown",
   "id": "1330e2f6",
   "metadata": {},
   "source": [
    "### Checking deflections and slopes"
   ]
  },
  {
   "cell_type": "markdown",
   "id": "28e2f960",
   "metadata": {},
   "source": [
    "#### At gear D:"
   ]
  },
  {
   "cell_type": "code",
   "execution_count": 33,
   "id": "67fdb819",
   "metadata": {},
   "outputs": [
    {
     "data": {
      "text/plain": [
       "6.739284514392614e-06"
      ]
     },
     "execution_count": 33,
     "metadata": {},
     "output_type": "execute_result"
    }
   ],
   "source": [
    "rotzD = float(s1.subs(x,AD))\n",
    "rotyD = 0\n",
    "\n",
    "slD1 = sqrt(rotzD*rotzD + rotyD*rotyD)\n",
    "slD1 #rad"
   ]
  },
  {
   "cell_type": "code",
   "execution_count": 55,
   "id": "290d9f6c",
   "metadata": {},
   "outputs": [
    {
     "data": {
      "text/plain": [
       "(0.0, 0)"
      ]
     },
     "execution_count": 55,
     "metadata": {},
     "output_type": "execute_result"
    }
   ],
   "source": [
    "rotD = float(v1.subs(x,AD))\n",
    "rotD = 0\n",
    "slDd = sqrt(rotD*rotD + rotD*rotD)\n",
    "slDd, rotD #rad"
   ]
  },
  {
   "cell_type": "markdown",
   "id": "031c824a",
   "metadata": {},
   "source": [
    "#### At scissor C:"
   ]
  },
  {
   "cell_type": "code",
   "execution_count": 34,
   "id": "26fb74ac",
   "metadata": {},
   "outputs": [
    {
     "data": {
      "text/plain": [
       "4.043570708635555e-05"
      ]
     },
     "execution_count": 34,
     "metadata": {},
     "output_type": "execute_result"
    }
   ],
   "source": [
    "rotzC = float(s1.subs(x,AC))\n",
    "rotyC = 0\n",
    "\n",
    "slC1 = sqrt(rotzC*rotzC + rotyC*rotyC)\n",
    "slC1 #rad"
   ]
  },
  {
   "cell_type": "markdown",
   "id": "cdbda75e",
   "metadata": {},
   "source": [
    "#### At bearing B:"
   ]
  },
  {
   "cell_type": "code",
   "execution_count": 35,
   "id": "87ea9adc",
   "metadata": {},
   "outputs": [
    {
     "data": {
      "text/plain": [
       "6.0653560629533496e-05"
      ]
     },
     "execution_count": 35,
     "metadata": {},
     "output_type": "execute_result"
    }
   ],
   "source": [
    "rotzB = float(s2.subs(x,AB))\n",
    "rotyB = 0\n",
    "\n",
    "slB1 = sqrt(rotzB*rotzB + rotyB*rotyB)\n",
    "slB1 #rad"
   ]
  },
  {
   "cell_type": "markdown",
   "id": "1361752f",
   "metadata": {},
   "source": [
    "### Deflection in the xz plane"
   ]
  },
  {
   "cell_type": "code",
   "execution_count": 36,
   "id": "2815bf62",
   "metadata": {},
   "outputs": [],
   "source": [
    "def deflection_slope(Mz1, Mz2, E, d1, d2, AD, AB):\n",
    "    \"\"\"\n",
    "    Mz1, Mz2, Mz3:  Nmm\n",
    "    AE, AH, AB:  mm\n",
    "    E: MPa\n",
    "    d1:  mm\n",
    "    d2:  mm\n",
    "    return: deflection and slope for each segment\n",
    "    \"\"\"\n",
    "    I1 = pi*d1**4/64\n",
    "    I2 = pi*d2**4/64\n",
    "    C1, C2, C3, C4, C5, C6 = symbols('C1, C2, C3, C4, C5, C6',real=True)\n",
    "    EIdv1dx = integrate(Mz1,x) + C1\n",
    "    EIv1 = integrate(EIdv1dx,x) + C2\n",
    "\n",
    "    EIdv2dx = integrate(Mz2,x) + C3\n",
    "    EIv2 = integrate(EIdv2dx,x) + C4\n",
    "\n",
    "    eq1 = EIv1.subs(x,0)/E/I1\n",
    "    eq2 = EIdv1dx.subs(x,AD)/E/I1 - EIdv2dx.subs(x,AD)/E/I2\n",
    "    eq3 = EIv1.subs(x,AD)/E/I1 \n",
    "    eq4 = EIv2.subs(x,AB)/E/I2\n",
    "    \n",
    "    c1t6 = solve((eq1,eq2,eq3,eq4))\n",
    "    \n",
    "    v1 = EIv1.subs(c1t6)/E/I1\n",
    "    v2 = EIv2.subs(c1t6)/E/I2\n",
    "    \n",
    "    dv1dx = EIdv1dx.subs(c1t6)/E/I1\n",
    "    dv2dx = EIdv2dx.subs(c1t6)/E/I2\n",
    "    \n",
    "    defl = {\"v1\": v1, \"v2\": v2}\n",
    "    slop = {\"s1\": dv1dx, \"s2\": dv2dx}\n",
    "    \n",
    "    return defl, slop"
   ]
  },
  {
   "cell_type": "code",
   "execution_count": 37,
   "id": "7dad7b7e",
   "metadata": {},
   "outputs": [],
   "source": [
    "AC=45\n",
    "AD=30\n",
    "AB = 60\n",
    "DC = 15\n",
    "DB = 30\n",
    "x = sp.symbols('x')\n",
    "Mfunc_AD = (425.17)*(x)\n",
    "Mfunc_DB = (-425.17)*(x) +25510.2 #Nmm"
   ]
  },
  {
   "cell_type": "code",
   "execution_count": 38,
   "id": "d5361720",
   "metadata": {},
   "outputs": [],
   "source": [
    "d1 = 12 #mm\n",
    "d2 = 12 #mm\n",
    "E = 205.0e3 # N/mm/mm  typical value for steel\n",
    "Mz1 = Mfunc_AD\n",
    "Mz2 = Mfunc_DB\n"
   ]
  },
  {
   "cell_type": "code",
   "execution_count": 39,
   "id": "ee061b75",
   "metadata": {},
   "outputs": [
    {
     "data": {
      "text/plain": [
       "60"
      ]
     },
     "execution_count": 39,
     "metadata": {},
     "output_type": "execute_result"
    }
   ],
   "source": [
    "defl, slop = deflection_slope(Mz1, Mz2, E, d1, d2, AD, AB)\n",
    "AB"
   ]
  },
  {
   "cell_type": "code",
   "execution_count": 40,
   "id": "63ede30c",
   "metadata": {},
   "outputs": [
    {
     "name": "stdout",
     "output_type": "stream",
     "text": [
      "v1: 3.39596041124065e-7*x**3 - 0.000305636437011657*x\n",
      "v2: -3.39596041124065e-7*x**3 + 6.11272874023317e-5*x**2 - 0.00213945505908161*x - 0.0183381862206996\n"
     ]
    }
   ],
   "source": [
    "v1, v2 = defl['v1'], defl['v2']\n",
    "s1, s2 = slop['s1'], slop['s2']\n",
    "print('v1:', v1)\n",
    "print('v2:', v2)"
   ]
  },
  {
   "cell_type": "code",
   "execution_count": 41,
   "id": "3a301746",
   "metadata": {
    "scrolled": true
   },
   "outputs": [
    {
     "name": "stdout",
     "output_type": "stream",
     "text": [
      "s1: 1.01878812337219e-6*x**2 - 0.000305636437011657\n",
      "s2: -1.01878812337219e-6*x**2 + 0.000122254574804663*x - 0.00213945505908161\n"
     ]
    }
   ],
   "source": [
    "print('s1:', s1)\n",
    "print('s2:', s2)"
   ]
  },
  {
   "cell_type": "markdown",
   "id": "af73f902",
   "metadata": {},
   "source": [
    "### Checking deflections and slopes"
   ]
  },
  {
   "cell_type": "markdown",
   "id": "2879216d",
   "metadata": {},
   "source": [
    "#### At gear D:"
   ]
  },
  {
   "cell_type": "code",
   "execution_count": 49,
   "id": "aa0b408d",
   "metadata": {},
   "outputs": [
    {
     "data": {
      "text/plain": [
       "0.0006112728740233174"
      ]
     },
     "execution_count": 49,
     "metadata": {},
     "output_type": "execute_result"
    }
   ],
   "source": [
    "rotzD = float(s1.subs(x,AD))\n",
    "rotyD = 0\n",
    "\n",
    "slD2 = sqrt(rotzD*rotzD + rotyD*rotyD)\n",
    "slD2 #rad"
   ]
  },
  {
   "cell_type": "markdown",
   "id": "22052448",
   "metadata": {},
   "source": [
    "#### At scissor C:"
   ]
  },
  {
   "cell_type": "code",
   "execution_count": 52,
   "id": "41ca1700",
   "metadata": {},
   "outputs": [
    {
     "data": {
      "text/plain": [
       "0.0017574095128170362"
      ]
     },
     "execution_count": 52,
     "metadata": {},
     "output_type": "execute_result"
    }
   ],
   "source": [
    "rotzC = float(s1.subs(x,AC))\n",
    "rotyC = 0\n",
    "\n",
    "slC2 = sqrt(rotzC*rotzC + rotyC*rotyC)\n",
    "slC2 #rad"
   ]
  },
  {
   "cell_type": "markdown",
   "id": "fd8fc902",
   "metadata": {},
   "source": [
    "#### At bearing B:"
   ]
  },
  {
   "cell_type": "code",
   "execution_count": 44,
   "id": "56cce80b",
   "metadata": {},
   "outputs": [
    {
     "data": {
      "text/plain": [
       "0.0015281821850582924"
      ]
     },
     "execution_count": 44,
     "metadata": {},
     "output_type": "execute_result"
    }
   ],
   "source": [
    "rotzB = float(s2.subs(x,AB))\n",
    "rotyB = 0\n",
    "\n",
    "slB2 = sqrt(rotzB*rotzB + rotyB*rotyB)\n",
    "slB2 #rad"
   ]
  },
  {
   "cell_type": "code",
   "execution_count": 45,
   "id": "ff50edab",
   "metadata": {},
   "outputs": [
    {
     "data": {
      "text/plain": [
       "0.0006113100232063044"
      ]
     },
     "execution_count": 45,
     "metadata": {},
     "output_type": "execute_result"
    }
   ],
   "source": [
    "slD = sqrt(slD1*slD1 + slD2*slD2)\n",
    "slD"
   ]
  },
  {
   "cell_type": "code",
   "execution_count": 46,
   "id": "5ee7c519",
   "metadata": {},
   "outputs": [
    {
     "data": {
      "text/plain": [
       "0.0017578746377792092"
      ]
     },
     "execution_count": 46,
     "metadata": {},
     "output_type": "execute_result"
    }
   ],
   "source": [
    "slC = sqrt(slC1*slC1 + slC2*slC2)\n",
    "slC"
   ]
  },
  {
   "cell_type": "code",
   "execution_count": 47,
   "id": "4ba9d42e",
   "metadata": {},
   "outputs": [
    {
     "data": {
      "text/plain": [
       "0.0015293853815002212"
      ]
     },
     "execution_count": 47,
     "metadata": {},
     "output_type": "execute_result"
    }
   ],
   "source": [
    "slB = sqrt(slB1*slB1 + slB2*slB2)\n",
    "slB"
   ]
  }
 ],
 "metadata": {
  "kernelspec": {
   "display_name": "Python 3 (ipykernel)",
   "language": "python",
   "name": "python3"
  },
  "language_info": {
   "codemirror_mode": {
    "name": "ipython",
    "version": 3
   },
   "file_extension": ".py",
   "mimetype": "text/x-python",
   "name": "python",
   "nbconvert_exporter": "python",
   "pygments_lexer": "ipython3",
   "version": "3.10.9"
  }
 },
 "nbformat": 4,
 "nbformat_minor": 5
}
