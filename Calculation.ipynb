{
 "cells": [
  {
   "cell_type": "code",
   "execution_count": 1,
   "id": "fe492cb5",
   "metadata": {},
   "outputs": [],
   "source": [
    "import numpy as np\n",
    "import sympy as sp"
   ]
  },
  {
   "cell_type": "code",
   "execution_count": 2,
   "id": "00e4fbd7",
   "metadata": {},
   "outputs": [],
   "source": [
    "scissor_length = 0.25 #m\n",
    "scissor_shear_force = 100 #N"
   ]
  },
  {
   "cell_type": "code",
   "execution_count": 3,
   "id": "67e67f28",
   "metadata": {},
   "outputs": [
    {
     "data": {
      "text/plain": [
       "25.0"
      ]
     },
     "execution_count": 3,
     "metadata": {},
     "output_type": "execute_result"
    }
   ],
   "source": [
    "Torque_scissor = scissor_length*scissor_shear_force\n",
    "Torque_scissor #Nm"
   ]
  },
  {
   "cell_type": "code",
   "execution_count": 11,
   "id": "3308c06d",
   "metadata": {},
   "outputs": [
    {
     "data": {
      "text/plain": [
       "1.5707963267948966"
      ]
     },
     "execution_count": 11,
     "metadata": {},
     "output_type": "execute_result"
    }
   ],
   "source": [
    "Rotation_speed = (np.pi/2)/1 #rad/s  rotate 90 degree in 1 sec\n",
    "Rotation_speed"
   ]
  },
  {
   "cell_type": "code",
   "execution_count": 12,
   "id": "82b0ef94",
   "metadata": {},
   "outputs": [
    {
     "data": {
      "text/plain": [
       "14.999999999999998"
      ]
     },
     "execution_count": 12,
     "metadata": {},
     "output_type": "execute_result"
    }
   ],
   "source": [
    "n_o = Rotation_speed*60/(2*np.pi)\n",
    "n_o #rpm"
   ]
  },
  {
   "cell_type": "code",
   "execution_count": 13,
   "id": "a9a6e523",
   "metadata": {},
   "outputs": [
    {
     "data": {
      "text/plain": [
       "25.510204081632654"
      ]
     },
     "execution_count": 13,
     "metadata": {},
     "output_type": "execute_result"
    }
   ],
   "source": [
    "Torque_gearhead_out = Torque_scissor/0.98 # 0,98 is the efficency of the gear \n",
    "Torque_gearhead_out"
   ]
  },
  {
   "cell_type": "code",
   "execution_count": 14,
   "id": "5f1ed73c",
   "metadata": {},
   "outputs": [
    {
     "data": {
      "text/plain": [
       "40.07133486721675"
      ]
     },
     "execution_count": 14,
     "metadata": {},
     "output_type": "execute_result"
    }
   ],
   "source": [
    "Power = Torque_gearhead_out*Rotation_speed # W \n",
    "Power"
   ]
  },
  {
   "cell_type": "code",
   "execution_count": 15,
   "id": "9199df33",
   "metadata": {},
   "outputs": [
    {
     "data": {
      "text/plain": [
       "(156.0, 2339.9999999999995, 245.0442269800038, 0.2136752136752137)"
      ]
     },
     "execution_count": 15,
     "metadata": {},
     "output_type": "execute_result"
    }
   ],
   "source": [
    "Gear_Ratio = 156/1\n",
    "n_motor = Gear_Ratio*n_o\n",
    "w_motor = n_motor*np.pi*2/60\n",
    "T_motor = (Torque_scissor / 0.75) / Gear_Ratio # 0.75 is the efficency of the gearhead\n",
    "Gear_Ratio, n_motor, w_motor, T_motor"
   ]
  },
  {
   "cell_type": "code",
   "execution_count": 16,
   "id": "dc3e09b9",
   "metadata": {},
   "outputs": [
    {
     "data": {
      "text/plain": [
       "52.359877559829876"
      ]
     },
     "execution_count": 16,
     "metadata": {},
     "output_type": "execute_result"
    }
   ],
   "source": [
    "P_motor = w_motor*T_motor\n",
    "P_motor"
   ]
  },
  {
   "cell_type": "code",
   "execution_count": null,
   "id": "5e2ea7ca",
   "metadata": {},
   "outputs": [],
   "source": []
  },
  {
   "cell_type": "code",
   "execution_count": null,
   "id": "d13a7c19",
   "metadata": {},
   "outputs": [],
   "source": []
  }
 ],
 "metadata": {
  "kernelspec": {
   "display_name": "Python 3 (ipykernel)",
   "language": "python",
   "name": "python3"
  },
  "language_info": {
   "codemirror_mode": {
    "name": "ipython",
    "version": 3
   },
   "file_extension": ".py",
   "mimetype": "text/x-python",
   "name": "python",
   "nbconvert_exporter": "python",
   "pygments_lexer": "ipython3",
   "version": "3.11.4"
  }
 },
 "nbformat": 4,
 "nbformat_minor": 5
}
