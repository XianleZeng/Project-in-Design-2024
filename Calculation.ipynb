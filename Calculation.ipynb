{
 "cells": [
  {
   "cell_type": "code",
   "execution_count": 2,
   "id": "fe492cb5",
   "metadata": {},
   "outputs": [],
   "source": [
    "import numpy as np\n",
    "import sympy as sp"
   ]
  },
  {
   "cell_type": "code",
   "execution_count": 3,
   "id": "00e4fbd7",
   "metadata": {},
   "outputs": [],
   "source": [
    "scissor_length = 0.25 #m\n",
    "scissor_shear_force = 100 #N"
   ]
  },
  {
   "cell_type": "code",
   "execution_count": 4,
   "id": "67e67f28",
   "metadata": {},
   "outputs": [
    {
     "data": {
      "text/plain": [
       "25.0"
      ]
     },
     "execution_count": 4,
     "metadata": {},
     "output_type": "execute_result"
    }
   ],
   "source": [
    "Torque_scissor = scissor_length*scissor_shear_force\n",
    "Torque_scissor #Nm"
   ]
  },
  {
   "cell_type": "code",
   "execution_count": 5,
   "id": "3308c06d",
   "metadata": {},
   "outputs": [
    {
     "data": {
      "text/plain": [
       "3.141592653589793"
      ]
     },
     "execution_count": 5,
     "metadata": {},
     "output_type": "execute_result"
    }
   ],
   "source": [
    "Rotation_speed = (np.pi/2)/0.5 #rad/s\n",
    "Rotation_speed"
   ]
  },
  {
   "cell_type": "code",
   "execution_count": 6,
   "id": "5f1ed73c",
   "metadata": {},
   "outputs": [
    {
     "data": {
      "text/plain": [
       "78.53981633974483"
      ]
     },
     "execution_count": 6,
     "metadata": {},
     "output_type": "execute_result"
    }
   ],
   "source": [
    "Power_output = Torque_scissor*Rotation_speed # W\n",
    "Power_output"
   ]
  },
  {
   "cell_type": "code",
   "execution_count": 7,
   "id": "5e211c8c",
   "metadata": {
    "scrolled": false
   },
   "outputs": [
    {
     "data": {
      "text/plain": [
       "29.999999999999996"
      ]
     },
     "execution_count": 7,
     "metadata": {},
     "output_type": "execute_result"
    }
   ],
   "source": [
    "n_o = Rotation_speed*60/(2*np.pi)\n",
    "n_o #rpm"
   ]
  },
  {
   "cell_type": "code",
   "execution_count": 32,
   "id": "9199df33",
   "metadata": {},
   "outputs": [],
   "source": [
    "Gear_Ratio = 186/1\n",
    "n_motor = Gear_Ratio*n_o\n",
    "w_motor = n_motor*np.pi*2/60\n",
    "T_motor = (Torque_scissor / 0.98) / Gear_Ratio"
   ]
  },
  {
   "cell_type": "code",
   "execution_count": 33,
   "id": "69748066",
   "metadata": {},
   "outputs": [
    {
     "data": {
      "text/plain": [
       "5579.999999999999"
      ]
     },
     "execution_count": 33,
     "metadata": {},
     "output_type": "execute_result"
    }
   ],
   "source": [
    "n_motor"
   ]
  },
  {
   "cell_type": "code",
   "execution_count": 34,
   "id": "855e3cfa",
   "metadata": {
    "scrolled": true
   },
   "outputs": [
    {
     "data": {
      "text/plain": [
       "0.13715163484748738"
      ]
     },
     "execution_count": 34,
     "metadata": {},
     "output_type": "execute_result"
    }
   ],
   "source": [
    "T_motor"
   ]
  },
  {
   "cell_type": "code",
   "execution_count": 35,
   "id": "90c45201",
   "metadata": {},
   "outputs": [
    {
     "data": {
      "text/plain": [
       "584.3362335677014"
      ]
     },
     "execution_count": 35,
     "metadata": {},
     "output_type": "execute_result"
    }
   ],
   "source": [
    "w_motor"
   ]
  },
  {
   "cell_type": "code",
   "execution_count": 36,
   "id": "dc3e09b9",
   "metadata": {},
   "outputs": [],
   "source": [
    "P_motor = w_motor*T_motor"
   ]
  },
  {
   "cell_type": "code",
   "execution_count": 37,
   "id": "a6397115",
   "metadata": {},
   "outputs": [
    {
     "data": {
      "text/plain": [
       "80.14266973443347"
      ]
     },
     "execution_count": 37,
     "metadata": {},
     "output_type": "execute_result"
    }
   ],
   "source": [
    "P_motor"
   ]
  },
  {
   "cell_type": "code",
   "execution_count": 40,
   "id": "4d74a58f",
   "metadata": {},
   "outputs": [],
   "source": [
    "P = 100 #W"
   ]
  },
  {
   "cell_type": "code",
   "execution_count": 41,
   "id": "1ef99717",
   "metadata": {},
   "outputs": [
    {
     "data": {
      "text/plain": [
       "0.1711343474106402"
      ]
     },
     "execution_count": 41,
     "metadata": {},
     "output_type": "execute_result"
    }
   ],
   "source": [
    "T = P/w_motor\n",
    "T"
   ]
  },
  {
   "cell_type": "code",
   "execution_count": null,
   "id": "5e2ea7ca",
   "metadata": {},
   "outputs": [],
   "source": []
  }
 ],
 "metadata": {
  "kernelspec": {
   "display_name": "Python 3 (ipykernel)",
   "language": "python",
   "name": "python3"
  },
  "language_info": {
   "codemirror_mode": {
    "name": "ipython",
    "version": 3
   },
   "file_extension": ".py",
   "mimetype": "text/x-python",
   "name": "python",
   "nbconvert_exporter": "python",
   "pygments_lexer": "ipython3",
   "version": "3.11.4"
  }
 },
 "nbformat": 4,
 "nbformat_minor": 5
}
