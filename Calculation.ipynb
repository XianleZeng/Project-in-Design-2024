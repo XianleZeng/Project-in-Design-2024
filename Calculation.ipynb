{
 "cells": [
  {
   "cell_type": "code",
   "execution_count": 1,
   "id": "fe492cb5",
   "metadata": {},
   "outputs": [],
   "source": [
    "import numpy as np\n",
    "import sympy as sp"
   ]
  },
  {
   "cell_type": "code",
   "execution_count": 2,
   "id": "00e4fbd7",
   "metadata": {},
   "outputs": [],
   "source": [
    "scissor_length = 0.25 #m\n",
    "scissor_shear_force = 50 #N"
   ]
  },
  {
   "cell_type": "code",
   "execution_count": 3,
   "id": "67e67f28",
   "metadata": {},
   "outputs": [
    {
     "data": {
      "text/plain": [
       "12.5"
      ]
     },
     "execution_count": 3,
     "metadata": {},
     "output_type": "execute_result"
    }
   ],
   "source": [
    "Torque_scissor = scissor_length*scissor_shear_force\n",
    "Torque_scissor #Nm"
   ]
  },
  {
   "cell_type": "code",
   "execution_count": 4,
   "id": "3308c06d",
   "metadata": {},
   "outputs": [
    {
     "data": {
      "text/plain": [
       "1.5707963267948966"
      ]
     },
     "execution_count": 4,
     "metadata": {},
     "output_type": "execute_result"
    }
   ],
   "source": [
    "Rotation_speed = (np.pi/2)/1 #rad/s  rotate 90 degree in 1 sec\n",
    "Rotation_speed"
   ]
  },
  {
   "cell_type": "code",
   "execution_count": 5,
   "id": "28412670",
   "metadata": {},
   "outputs": [
    {
     "data": {
      "text/plain": [
       "14.999999999999998"
      ]
     },
     "execution_count": 5,
     "metadata": {},
     "output_type": "execute_result"
    }
   ],
   "source": [
    "n_o = Rotation_speed*60/(2*np.pi)\n",
    "n_o #rpm"
   ]
  },
  {
   "cell_type": "code",
   "execution_count": 6,
   "id": "1d5831cd",
   "metadata": {},
   "outputs": [
    {
     "data": {
      "text/plain": [
       "25.255102040816325"
      ]
     },
     "execution_count": 6,
     "metadata": {},
     "output_type": "execute_result"
    }
   ],
   "source": [
    "Torque_gearhead_out = Torque_scissor/0.98 + Torque_scissor # 0,98 is the efficency of the gear \n",
    "Torque_gearhead_out"
   ]
  },
  {
   "cell_type": "code",
   "execution_count": 7,
   "id": "5f1ed73c",
   "metadata": {},
   "outputs": [
    {
     "data": {
      "text/plain": [
       "39.67062151854458"
      ]
     },
     "execution_count": 7,
     "metadata": {},
     "output_type": "execute_result"
    }
   ],
   "source": [
    "Power = Torque_gearhead_out*Rotation_speed # W \n",
    "Power"
   ]
  },
  {
   "cell_type": "code",
   "execution_count": 10,
   "id": "9199df33",
   "metadata": {},
   "outputs": [
    {
     "data": {
      "text/plain": [
       "(156.0, 2339.9999999999995, 245.0442269800038, 0.2158555729984301)"
      ]
     },
     "execution_count": 10,
     "metadata": {},
     "output_type": "execute_result"
    }
   ],
   "source": [
    "Gear_Ratio = 156/1\n",
    "n_motor = Gear_Ratio*n_o\n",
    "w_motor = n_motor*np.pi*2/60\n",
    "T_motor = (Torque_gearhead_out / 0.75) / Gear_Ratio # 0.75 is the efficency of the gearhead\n",
    "Gear_Ratio, n_motor, w_motor, T_motor"
   ]
  },
  {
   "cell_type": "code",
   "execution_count": 9,
   "id": "dc3e09b9",
   "metadata": {},
   "outputs": [
    {
     "data": {
      "text/plain": [
       "26.179938779914938"
      ]
     },
     "execution_count": 9,
     "metadata": {},
     "output_type": "execute_result"
    }
   ],
   "source": [
    "P_motor = w_motor*T_motor\n",
    "P_motor"
   ]
  },
  {
   "cell_type": "code",
   "execution_count": 11,
   "id": "5e2ea7ca",
   "metadata": {},
   "outputs": [
    {
     "data": {
      "text/plain": [
       "0.09426751592356687"
      ]
     },
     "execution_count": 11,
     "metadata": {},
     "output_type": "execute_result"
    }
   ],
   "source": [
    "0.148/1.57"
   ]
  },
  {
   "cell_type": "code",
   "execution_count": null,
   "id": "54717e0d",
   "metadata": {},
   "outputs": [],
   "source": []
  }
 ],
 "metadata": {
  "kernelspec": {
   "display_name": "Python 3 (ipykernel)",
   "language": "python",
   "name": "python3"
  },
  "language_info": {
   "codemirror_mode": {
    "name": "ipython",
    "version": 3
   },
   "file_extension": ".py",
   "mimetype": "text/x-python",
   "name": "python",
   "nbconvert_exporter": "python",
   "pygments_lexer": "ipython3",
   "version": "3.11.4"
  }
 },
 "nbformat": 4,
 "nbformat_minor": 5
}
