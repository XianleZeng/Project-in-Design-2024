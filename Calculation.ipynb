{
 "cells": [
  {
   "cell_type": "code",
   "execution_count": 3,
   "id": "fe492cb5",
   "metadata": {},
   "outputs": [],
   "source": [
    "import numpy as np\n",
    "import sympy as sp"
   ]
  },
  {
   "cell_type": "code",
   "execution_count": 21,
   "id": "00e4fbd7",
   "metadata": {},
   "outputs": [],
   "source": [
    "scissor_length = 0.25 #m\n",
    "scissor_shear_force = 40 #N\n",
    "\n"
   ]
  },
  {
   "cell_type": "code",
   "execution_count": 22,
   "id": "67e67f28",
   "metadata": {},
   "outputs": [
    {
     "data": {
      "text/plain": [
       "10.0"
      ]
     },
     "execution_count": 22,
     "metadata": {},
     "output_type": "execute_result"
    }
   ],
   "source": [
    "Torque_scissor_motor = scissor_length*scissor_shear_force\n",
    "Torque_scissor_motor #Nm"
   ]
  },
  {
   "cell_type": "code",
   "execution_count": 23,
   "id": "6c26501b",
   "metadata": {},
   "outputs": [
    {
     "data": {
      "text/plain": [
       "152.90519877675843"
      ]
     },
     "execution_count": 23,
     "metadata": {},
     "output_type": "execute_result"
    }
   ],
   "source": [
    "25*(60/9.81)\n"
   ]
  },
  {
   "cell_type": "code",
   "execution_count": 20,
   "id": "a025c519",
   "metadata": {},
   "outputs": [
    {
     "data": {
      "text/plain": [
       "152.9051987767584"
      ]
     },
     "execution_count": 20,
     "metadata": {},
     "output_type": "execute_result"
    }
   ],
   "source": [
    "0.25*10**2*60/9.81"
   ]
  },
  {
   "cell_type": "code",
   "execution_count": null,
   "id": "3308c06d",
   "metadata": {},
   "outputs": [],
   "source": []
  }
 ],
 "metadata": {
  "kernelspec": {
   "display_name": "Python 3 (ipykernel)",
   "language": "python",
   "name": "python3"
  },
  "language_info": {
   "codemirror_mode": {
    "name": "ipython",
    "version": 3
   },
   "file_extension": ".py",
   "mimetype": "text/x-python",
   "name": "python",
   "nbconvert_exporter": "python",
   "pygments_lexer": "ipython3",
   "version": "3.11.4"
  }
 },
 "nbformat": 4,
 "nbformat_minor": 5
}
